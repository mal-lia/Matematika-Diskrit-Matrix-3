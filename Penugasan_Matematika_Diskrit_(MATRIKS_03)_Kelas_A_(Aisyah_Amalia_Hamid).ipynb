{
  "nbformat": 4,
  "nbformat_minor": 0,
  "metadata": {
    "colab": {
      "provenance": []
    },
    "kernelspec": {
      "name": "python3",
      "display_name": "Python 3"
    },
    "language_info": {
      "name": "python"
    }
  },
  "cells": [
    {
      "cell_type": "markdown",
      "source": [
        "# **Matematika Diskrit**\n",
        "\n",
        "Pada tugas ini, pembuktian dilakukan dengan bantuan Python untuk **memastikan pemahaman konsep sekaligus menambahkan analisis detail.** Terdapat dua pernyataan matematika yang diuji, yaitu:\n",
        "1. Ekspresi n^2 - n selalu dapat dibagi habis oleh (n-1).\n",
        "2. Jumlah deret harmonik Hn = 1+ 1/2 + 1/3 + ... + 1/n akan lebih kecil dari 2 hingga batas tertentu."
      ],
      "metadata": {
        "id": "32z6bF9DJJp4"
      }
    },
    {
      "cell_type": "markdown",
      "source": [
        "## **Nomor 01 (Soal Kejepit)**"
      ],
      "metadata": {
        "id": "hdqT1qrzJiet"
      }
    },
    {
      "cell_type": "markdown",
      "source": [
        "**(1) Pembuktian divisibilitas dengan Python**\n",
        "\n",
        "Mengecek apakah ekspresi n^2 - n = n(n -1) akan selalu habis dibagi oleh (n-1)."
      ],
      "metadata": {
        "id": "ZVM4Bd_lJnoM"
      }
    },
    {
      "cell_type": "code",
      "execution_count": null,
      "metadata": {
        "colab": {
          "base_uri": "https://localhost:8080/"
        },
        "id": "YFOZgyhlH9gY",
        "outputId": "1c00aea2-282d-4938-ae77-6d17b2022944"
      },
      "outputs": [
        {
          "output_type": "stream",
          "name": "stdout",
          "text": [
            "n=2: 2 / (n-1) = 2 (habis dibagi)\n",
            "n=3: 6 / (n-1) = 3 (habis dibagi)\n",
            "n=4: 12 / (n-1) = 4 (habis dibagi)\n",
            "n=5: 20 / (n-1) = 5 (habis dibagi)\n",
            "n=6: 30 / (n-1) = 6 (habis dibagi)\n",
            "n=7: 42 / (n-1) = 7 (habis dibagi)\n",
            "n=8: 56 / (n-1) = 8 (habis dibagi)\n",
            "n=9: 72 / (n-1) = 9 (habis dibagi)\n",
            "n=10: 90 / (n-1) = 10 (habis dibagi)\n",
            "n=11: 110 / (n-1) = 11 (habis dibagi)\n",
            "n=12: 132 / (n-1) = 12 (habis dibagi)\n",
            "n=13: 156 / (n-1) = 13 (habis dibagi)\n",
            "n=14: 182 / (n-1) = 14 (habis dibagi)\n",
            "n=15: 210 / (n-1) = 15 (habis dibagi)\n",
            "n=16: 240 / (n-1) = 16 (habis dibagi)\n",
            "n=17: 272 / (n-1) = 17 (habis dibagi)\n",
            "n=18: 306 / (n-1) = 18 (habis dibagi)\n",
            "n=19: 342 / (n-1) = 19 (habis dibagi)\n",
            "n=20: 380 / (n-1) = 20 (habis dibagi)\n"
          ]
        }
      ],
      "source": [
        "def cek_divisible(n_max=20):\n",
        "    for n in range(2, n_max+1):  # mulai dari 2 biar (n-1) ≠ 0\n",
        "        expr = n**2 - n\n",
        "        if expr % (n-1) == 0:\n",
        "            print(f\"n={n}: {expr} / (n-1) = {expr//(n-1)} (habis dibagi)\")\n",
        "\n",
        "cek_divisible()"
      ]
    },
    {
      "cell_type": "markdown",
      "source": [
        ">Program menggunakan loop dari beberapa nilai\n",
        "n\n",
        "≥\n",
        "2\n",
        "dan menampilkan hasil bagi tiap perhitungan.\n",
        "\n",
        ">Output menunjukkan bahwa untuk semua nilai\n",
        "n, ekspresi tersebut memang habis dibagi."
      ],
      "metadata": {
        "id": "Add8ctAEKTej"
      }
    },
    {
      "cell_type": "markdown",
      "source": [
        "## **Nomor 02 (Soal Kejepit)**"
      ],
      "metadata": {
        "id": "afreTrcEdz6D"
      }
    },
    {
      "cell_type": "markdown",
      "source": [
        "**(2) Hitung jumlah deret harmonik sampai < 2**\n",
        "\n",
        "Membuat fungsi untuk menghitung jumlah deret harmonik:\n",
        "\n",
        "Hn = 1 + 1/2 + 1/3 + ... + 1/n < 2"
      ],
      "metadata": {
        "id": "UoZf5t2FJ0yG"
      }
    },
    {
      "cell_type": "code",
      "source": [
        "def harmonic_sum(limit=20):\n",
        "    total = 0\n",
        "    for n in range(1, limit+1):\n",
        "        total += 1/n\n",
        "        print(f\"n={n}, H_n={total:.6f}\")\n",
        "        if total >= 2:\n",
        "            print(f\"\\n>>> Pertama kali melewati 2 di n={n}, H_n={total:.6f}\")\n",
        "\n",
        "harmonic_sum()"
      ],
      "metadata": {
        "colab": {
          "base_uri": "https://localhost:8080/"
        },
        "id": "AyRDvkyOJlrH",
        "outputId": "2000605f-72fb-4d32-8a7d-6584052e85b9"
      },
      "execution_count": null,
      "outputs": [
        {
          "output_type": "stream",
          "name": "stdout",
          "text": [
            "n=1, H_n=1.000000\n",
            "n=2, H_n=1.500000\n",
            "n=3, H_n=1.833333\n",
            "n=4, H_n=2.083333\n",
            "\n",
            ">>> Pertama kali melewati 2 di n=4, H_n=2.083333\n"
          ]
        }
      ]
    },
    {
      "cell_type": "markdown",
      "source": [
        ">Program menampilkan nilai Hn secara bertahap sampai pertama kali melewati 2.\n",
        "\n",
        ">Ditemukan bahwa deret harmonik < 2 hanya berlaku hingga n = 3, dan mulai dari n = 4, jumlahnya sudah melampaui 2."
      ],
      "metadata": {
        "id": "I9AIRQ3UcGiA"
      }
    },
    {
      "cell_type": "markdown",
      "source": [
        "**(2) Hitung simpangan dari 2**\n",
        "\n",
        "Simpangan = |2 - Hn|.\n",
        "\n",
        "Kita cek untuk n = 3 (masih <2) dan n = 4 (sudah >2)"
      ],
      "metadata": {
        "id": "t-upSBAaKC3y"
      }
    },
    {
      "cell_type": "code",
      "source": [
        "def simpangan():\n",
        "    H3 = sum(1/i for i in range(1, 4))  # n=3\n",
        "    H4 = sum(1/i for i in range(1, 5))  # n=4\n",
        "    print(f\"Simpangan n=3: 2 - H3 = {2-H3:.6f}\")\n",
        "    print(f\"Simpangan n=4: H4 - 2 = {H4-2:.6f}\")\n",
        "\n",
        "simpangan()"
      ],
      "metadata": {
        "id": "qXHqnc_iJ_5-"
      },
      "execution_count": null,
      "outputs": []
    },
    {
      "cell_type": "markdown",
      "source": [
        ">Program menghitung selisih nilai Hn terhadap angka 2, baik dari bawah (2 - H3) maupun dari atas (H4 - 2).\n",
        "\n",
        ">Perhitungan simpangan memnjelaskan batas titik transisi ketika deret harmonik melewati angka 2."
      ],
      "metadata": {
        "id": "nZ7gauBDclFC"
      }
    },
    {
      "cell_type": "markdown",
      "source": [
        "# **Kesimpulan:**\n",
        "\n",
        "**1. Pembuktian Divisibilitas**\n",
        "Untuk mengecek kebenaran pernyataan pertama, digunakan Python untuk menghitung nilai n^2 - n kemudian dibagi dengan (n-1) untuk beberapa nilai n ≥ 2.\n",
        "\n",
        "Hasil eksekusi program menunjukkan bahwa hasil bagi **selalu berupa bilangan bulat.** Yang membuktikan n^2 - n = n(n - 1) memang selalu habis dibagi oleh (n -1).\n",
        "\n",
        ">TERBUKTI BENAR\n",
        "\n",
        "\n",
        "---\n",
        "\n",
        "\n",
        "**2. Analisis Deret Harmonik**\n",
        "Selanjutnya, terdapat fungsi untuk menghitung jumlah deret harmonik Hn. Nilai deret akan ditambahkan secara bertahap mulai dari n = 1 dan ditampilkan setiap langkah-langkahnya.\n",
        "\n",
        "Dari hasil perhitungan:\n",
        "* Pada n = 3, nilai deret harmonik < 2.\n",
        "* Pada n = 4, jumlah deret > 2.\n",
        "\n",
        "Sehingga, dapat disimpulkan batas terakhir deret harmonik nilai Hn < 2 terjadi pada n = 3.\n",
        "\n",
        "**Simpangan Dari Angka 2**\n",
        "Untuk memperjelas proses, dilakukan perhitungan selisih (simpangan) antara Hn dan angka 2. Sehingga:\n",
        "* Saat n = 3, simpangan dari bawah adalah 2 - H3.\n",
        "* Saat n = 4, simpangan dari atas adalah H4 -2."
      ],
      "metadata": {
        "id": "dp0YAUgnKdGd"
      }
    }
  ]
}